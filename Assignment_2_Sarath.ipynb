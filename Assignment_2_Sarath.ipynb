{
  "nbformat": 4,
  "nbformat_minor": 0,
  "metadata": {
    "colab": {
      "provenance": []
    },
    "kernelspec": {
      "name": "python3",
      "display_name": "Python 3"
    },
    "language_info": {
      "name": "python"
    }
  },
  "cells": [
    {
      "cell_type": "markdown",
      "source": [
        "1.What are the two values of the Boolean data type? How do you write them?"
      ],
      "metadata": {
        "id": "sWmA9nhKBWuy"
      }
    },
    {
      "cell_type": "code",
      "source": [
        "#True and False. Starts with upper case and remaining will be lower case."
      ],
      "metadata": {
        "id": "Bwa_-1YnBYk-"
      },
      "execution_count": null,
      "outputs": []
    },
    {
      "cell_type": "markdown",
      "source": [
        "2. What are the three different types of Boolean operators?"
      ],
      "metadata": {
        "id": "b7edBDVzBdO1"
      }
    },
    {
      "cell_type": "code",
      "source": [
        "and, or, and not"
      ],
      "metadata": {
        "id": "j-dEpM5_Bmcd"
      },
      "execution_count": null,
      "outputs": []
    },
    {
      "cell_type": "markdown",
      "source": [
        "3. Make a list of each Boolean operator's truth tables (i.e. every possible combination of Boolean values for the operator and what it evaluate)."
      ],
      "metadata": {
        "id": "K-xKfVu3BnXr"
      }
    },
    {
      "cell_type": "code",
      "source": [
        "List of each boolean operator's truth tables \n",
        "        Boolean and operators\n",
        "  a          b         a and b\n",
        "False(0) | False(0)  | False(0)\n",
        "False(0) | True(1)   | False(0)\n",
        "True(1)  | False(0)  |  False(0)\n",
        "True(1)  | True(1)   | True(1)\n",
        "       Boolean or operators\n",
        "  a          b           a or b\n",
        "False(0) | False(0)   | False(0)\n",
        "False(0) | True(1)    | True(1)\n",
        "True(1)  | False(0)   | True(1)\n",
        "True(1)  | True(1)    | True(1)\n",
        "       Boolean not operators\n",
        "  a             b\n",
        "True(1)  | False(0)\n",
        "False(0) | True(1)"
      ],
      "metadata": {
        "id": "4HSOAy7BBsDS"
      },
      "execution_count": null,
      "outputs": []
    },
    {
      "cell_type": "markdown",
      "source": [
        "4. What are the values of the following expressions?"
      ],
      "metadata": {
        "id": "_zs9RKxHBs5N"
      }
    },
    {
      "cell_type": "code",
      "source": [
        "\"\"\"\n",
        "(5 > 4) and (3 == 5) : False\n",
        "not (5 > 4): False\n",
        "(5 > 4) or (3 == 5): True\n",
        "not ((5 > 4) or (3 == 5)): False\n",
        "(True and True) and (True == False): False\n",
        "(not False) or (not True): True\n",
        "\"\"\""
      ],
      "metadata": {
        "id": "z6aMu-7zBvz6"
      },
      "execution_count": null,
      "outputs": []
    },
    {
      "cell_type": "code",
      "source": [
        "(not False) or (not True)"
      ],
      "metadata": {
        "colab": {
          "base_uri": "https://localhost:8080/"
        },
        "id": "KPHDZWDrHdZB",
        "outputId": "d4dcd559-2012-4f4d-c569-0337ddcc4487"
      },
      "execution_count": null,
      "outputs": [
        {
          "output_type": "execute_result",
          "data": {
            "text/plain": [
              "True"
            ]
          },
          "metadata": {},
          "execution_count": 6
        }
      ]
    },
    {
      "cell_type": "markdown",
      "source": [
        "5. What are the six comparison operators?"
      ],
      "metadata": {
        "id": "AcPa4_vWBzKX"
      }
    },
    {
      "cell_type": "code",
      "source": [
        "==, !=, >, <, >=, <="
      ],
      "metadata": {
        "id": "m-0MPvWgB4HX"
      },
      "execution_count": null,
      "outputs": []
    },
    {
      "cell_type": "markdown",
      "source": [
        "6. How do you tell the difference between the equal to and assignment operators? Describe a condition and when you would use one."
      ],
      "metadata": {
        "id": "AU2kLpAbB8kA"
      }
    },
    {
      "cell_type": "code",
      "source": [
        "#Equal to, == Operator, which compares the value between two and evaluates it in the Boolean form True or False\n",
        "#Whereas equal (=) in assignment operator which assign/store the value for variable. \n"
      ],
      "metadata": {
        "id": "k-oXV2kLCLzD"
      },
      "execution_count": null,
      "outputs": []
    },
    {
      "cell_type": "code",
      "source": [
        "#assignmet operator\n",
        "a=\"sarath\"#assigning value to a variable\n",
        "print(a)\n",
        "\n",
        "#equal to operator\n",
        "a=1\n",
        "if a==2:\n",
        "  print(\"true\")\n",
        "else:\n",
        "  print(\"false\")\n"
      ],
      "metadata": {
        "colab": {
          "base_uri": "https://localhost:8080/"
        },
        "id": "Dkf_0302H2EX",
        "outputId": "a2edd846-2c5a-43d3-be2d-9270def6d19b"
      },
      "execution_count": null,
      "outputs": [
        {
          "output_type": "stream",
          "name": "stdout",
          "text": [
            "sarath\n",
            "false\n"
          ]
        }
      ]
    },
    {
      "cell_type": "markdown",
      "source": [
        "7. Identify the three blocks in this code:"
      ],
      "metadata": {
        "id": "z9SxaOYhCPbt"
      }
    },
    {
      "cell_type": "code",
      "source": [
        "\"\"\"\n",
        "spam = 0 # Value assignment\n",
        "if spam == 10:  #Block 1\n",
        "print('eggs')\n",
        "if spam > 5:   #Block 2\n",
        "print('bacon')\n",
        "else: #Block 3\n",
        "print('ham')\n",
        "print('spam')\n",
        "print('spam')\n",
        "\"\"\""
      ],
      "metadata": {
        "id": "PH6HbhJrCYPX"
      },
      "execution_count": null,
      "outputs": []
    },
    {
      "cell_type": "markdown",
      "source": [
        "8. Write code that prints Hello if 1 is stored in spam, prints Howdy if 2 is stored in spam, and prints Greetings! if anything else is stored in spam."
      ],
      "metadata": {
        "id": "rtWDl5c_Cfd-"
      }
    },
    {
      "cell_type": "code",
      "source": [
        "spam = int(input(\"enter the value of spam = \"))\n",
        "if spam ==1:\n",
        "\tprint('Hello')\n",
        "if spam==2:\n",
        "\tprint('Howdy')\n",
        "else:\n",
        "  print('Greetings')\n"
      ],
      "metadata": {
        "colab": {
          "base_uri": "https://localhost:8080/"
        },
        "id": "TzuYKJlBCiZ8",
        "outputId": "cf0a2a7f-1032-4095-cd1e-f7805dcefd1d"
      },
      "execution_count": null,
      "outputs": [
        {
          "output_type": "stream",
          "name": "stdout",
          "text": [
            "enter the value of spam = 34\n",
            "Greetings\n"
          ]
        }
      ]
    },
    {
      "cell_type": "code",
      "source": [
        "#9.If your programme is stuck in an endless loop, what keys you’ll press?"
      ],
      "metadata": {
        "id": "Vr-p_S9jCn8R"
      },
      "execution_count": 1,
      "outputs": []
    },
    {
      "cell_type": "code",
      "source": [
        "#ctrl+c or ctrl+MI(google colab)"
      ],
      "metadata": {
        "id": "cC-mohw6C-LW"
      },
      "execution_count": null,
      "outputs": []
    },
    {
      "cell_type": "markdown",
      "source": [
        "10. How can you tell the difference between break and continue?"
      ],
      "metadata": {
        "id": "VvPZJY3_DAqd"
      }
    },
    {
      "cell_type": "code",
      "source": [
        "#break: The Break statement terminates the loop immediately after the given statement is true\n",
        "for i in range(0,10):\n",
        "  print(i)\n",
        "  if i>2:\n",
        "    break\n",
        "    print(i)"
      ],
      "metadata": {
        "id": "98n2f8ZkDBh1",
        "colab": {
          "base_uri": "https://localhost:8080/"
        },
        "outputId": "0867ccdd-57fb-4029-c894-a8a40abe21df"
      },
      "execution_count": null,
      "outputs": [
        {
          "output_type": "stream",
          "name": "stdout",
          "text": [
            "0\n",
            "1\n",
            "2\n",
            "3\n"
          ]
        }
      ]
    },
    {
      "cell_type": "code",
      "source": [
        "\"\"\"continue: The continue statement terminates the current iteration of the statement, skips \n",
        "the rest of the code in the current iteration and starts the loop again.\"\"\"\n",
        "for i in range(1, 10):\n",
        "  if i/2==2:\n",
        "    continue\n",
        "  print(i)"
      ],
      "metadata": {
        "colab": {
          "base_uri": "https://localhost:8080/"
        },
        "id": "srC1w-RnnZjh",
        "outputId": "93114df8-6f17-491e-ba59-e03b4df8321c"
      },
      "execution_count": null,
      "outputs": [
        {
          "output_type": "stream",
          "name": "stdout",
          "text": [
            "1\n",
            "2\n",
            "3\n",
            "5\n",
            "6\n",
            "7\n",
            "8\n",
            "9\n"
          ]
        }
      ]
    },
    {
      "cell_type": "markdown",
      "source": [
        "11. In a for loop, what is the difference between range(10), range(0, 10), and range(0, 10, 1)?"
      ],
      "metadata": {
        "id": "zakQYpfvDCBm"
      }
    },
    {
      "cell_type": "code",
      "source": [
        "for i in range(10):\n",
        "  print(i)"
      ],
      "metadata": {
        "id": "eNMSthZiDERt",
        "colab": {
          "base_uri": "https://localhost:8080/"
        },
        "outputId": "e2475107-a278-40df-9f52-90bdbe8f0d7c"
      },
      "execution_count": null,
      "outputs": [
        {
          "output_type": "stream",
          "name": "stdout",
          "text": [
            "0\n",
            "1\n",
            "2\n",
            "3\n",
            "4\n",
            "5\n",
            "6\n",
            "7\n",
            "8\n",
            "9\n"
          ]
        }
      ]
    },
    {
      "cell_type": "code",
      "source": [
        "for i in range(0,10):\n",
        "  print(i)"
      ],
      "metadata": {
        "colab": {
          "base_uri": "https://localhost:8080/"
        },
        "id": "sR4TR-GqnEkD",
        "outputId": "fad68451-9bb4-4d6a-a683-cc6f5d9589e5"
      },
      "execution_count": null,
      "outputs": [
        {
          "output_type": "stream",
          "name": "stdout",
          "text": [
            "0\n",
            "1\n",
            "2\n",
            "3\n",
            "4\n",
            "5\n",
            "6\n",
            "7\n",
            "8\n",
            "9\n"
          ]
        }
      ]
    },
    {
      "cell_type": "code",
      "source": [
        "for i in range(0,10,1):\n",
        "  print(i)"
      ],
      "metadata": {
        "colab": {
          "base_uri": "https://localhost:8080/"
        },
        "id": "mGdFwKSknA1P",
        "outputId": "3c29b086-2da4-41c5-e51f-928b40becc82"
      },
      "execution_count": null,
      "outputs": [
        {
          "output_type": "stream",
          "name": "stdout",
          "text": [
            "0\n",
            "1\n",
            "2\n",
            "3\n",
            "4\n",
            "5\n",
            "6\n",
            "7\n",
            "8\n",
            "9\n"
          ]
        }
      ]
    },
    {
      "cell_type": "code",
      "source": [
        "#These three range(10), range(0,10) and range(0,10,1) are gives the same answer\n",
        "#The range(10) call ranges from 0 to 9 excluidng last number 10, \n",
        "#range(0, 10) tells the loop to start at 0 to 9, \n",
        "#range(0, 10, 1) tells the loop to increase by 1 on each iteration and upto 9."
      ],
      "metadata": {
        "id": "yIlfo98unIO_"
      },
      "execution_count": null,
      "outputs": []
    },
    {
      "cell_type": "markdown",
      "source": [
        "12. Write a short program that prints the numbers 1 to 10 using a for loop. Then write an equivalent program that prints the numbers 1 to 10 using a while loop."
      ],
      "metadata": {
        "id": "JM4763LSDFCv"
      }
    },
    {
      "cell_type": "code",
      "source": [
        "for i in range(0, 10):\n",
        "  print(i+1)"
      ],
      "metadata": {
        "id": "ONf_u01YDH9m",
        "colab": {
          "base_uri": "https://localhost:8080/"
        },
        "outputId": "01824702-ec21-4d0c-cd52-f50db53dcd67"
      },
      "execution_count": null,
      "outputs": [
        {
          "output_type": "stream",
          "name": "stdout",
          "text": [
            "1\n",
            "2\n",
            "3\n",
            "4\n",
            "5\n",
            "6\n",
            "7\n",
            "8\n",
            "9\n",
            "10\n"
          ]
        }
      ]
    },
    {
      "cell_type": "code",
      "source": [
        "#while loop\n",
        "i = 1\n",
        "while i <11:\n",
        "  print(i)\n",
        "  i=i+1"
      ],
      "metadata": {
        "colab": {
          "base_uri": "https://localhost:8080/"
        },
        "id": "j6XkDfa0mwyn",
        "outputId": "b2ec8ea1-f05c-4189-fa44-eb79100bde7d"
      },
      "execution_count": null,
      "outputs": [
        {
          "output_type": "stream",
          "name": "stdout",
          "text": [
            "1\n",
            "2\n",
            "3\n",
            "4\n",
            "5\n",
            "6\n",
            "7\n",
            "8\n",
            "9\n",
            "10\n"
          ]
        }
      ]
    },
    {
      "cell_type": "markdown",
      "source": [
        "13. If you had a function named bacon() inside a module named spam, how would you call it after importing spam?"
      ],
      "metadata": {
        "id": "QkIMsfKfDIWG"
      }
    },
    {
      "cell_type": "code",
      "source": [
        "#using.notation\n",
        "#we can call it as spam.bacon()"
      ],
      "metadata": {
        "id": "rYqi-rKCDK0V"
      },
      "execution_count": null,
      "outputs": []
    }
  ]
}