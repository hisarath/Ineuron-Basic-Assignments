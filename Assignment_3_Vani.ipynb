{
  "nbformat": 4,
  "nbformat_minor": 0,
  "metadata": {
    "colab": {
      "provenance": []
    },
    "kernelspec": {
      "name": "python3",
      "display_name": "Python 3"
    },
    "language_info": {
      "name": "python"
    }
  },
  "cells": [
    {
      "cell_type": "markdown",
      "source": [
        "1.Why are functions advantageous to have in your programs?"
      ],
      "metadata": {
        "id": "0Gtonawkqc7M"
      }
    },
    {
      "cell_type": "code",
      "source": [
        "\"\"\"\n",
        "Functions reduce the need for writing code again and again. Function makes programs shorter, easier to read, and easier to update.\n",
        "\"\"\""
      ],
      "metadata": {
        "id": "1oK-ODSfoGc4"
      },
      "execution_count": null,
      "outputs": []
    },
    {
      "cell_type": "markdown",
      "source": [
        "2. When does the code in a function run: when it's specified or when it's called?"
      ],
      "metadata": {
        "id": "o9p5cL4Kq66i"
      }
    },
    {
      "cell_type": "code",
      "source": [
        "\"\"\"\n",
        "The code in a function run when the function is called, not when the function is specified.\n",
        "\"\"\"\n"
      ],
      "metadata": {
        "id": "kCpffA-So302",
        "colab": {
          "base_uri": "https://localhost:8080/",
          "height": 35
        },
        "outputId": "dcef5cc4-1cd7-4cf4-b4b4-ff6d6d10ea98"
      },
      "execution_count": 2,
      "outputs": [
        {
          "output_type": "execute_result",
          "data": {
            "text/plain": [
              "'\\nThe code in a function run when the function is called, not when the function is specified.\\n'"
            ],
            "application/vnd.google.colaboratory.intrinsic+json": {
              "type": "string"
            }
          },
          "metadata": {},
          "execution_count": 2
        }
      ]
    },
    {
      "cell_type": "markdown",
      "source": [
        "3.What statement creates a function?"
      ],
      "metadata": {
        "id": "N_iMTd14qnUt"
      }
    },
    {
      "cell_type": "code",
      "source": [
        "#def function creates a function"
      ],
      "metadata": {
        "id": "q9wP-z0oqKiu"
      },
      "execution_count": 4,
      "outputs": []
    },
    {
      "cell_type": "markdown",
      "source": [
        "4. What is the difference between a function and a function call?"
      ],
      "metadata": {
        "id": "h2foNwgPqupt"
      }
    },
    {
      "cell_type": "code",
      "source": [
        "\n",
        "def my_func(): #def of func \n",
        "    pass \n",
        "my_func() #calling above function\n",
        "\n",
        "#Function consists of def statement.\n",
        "#While function call execute all the code in a function and returns the value."
      ],
      "metadata": {
        "id": "UW1v2D3JqZBH"
      },
      "execution_count": 6,
      "outputs": []
    },
    {
      "cell_type": "markdown",
      "source": [
        "5. How many global scopes are there in a Python program? How many local scopes?"
      ],
      "metadata": {
        "id": "-Dq520cZsDCW"
      }
    },
    {
      "cell_type": "code",
      "source": [
        "\"\"\" \n",
        "There's only one global Python scope per program execution. This scope remains in existence until the program terminates.\n",
        " Local scope is created whenever a function is called.\n",
        "\"\"\""
      ],
      "metadata": {
        "id": "MC47h1cPsO6B"
      },
      "execution_count": null,
      "outputs": []
    },
    {
      "cell_type": "markdown",
      "source": [
        "6. What happens to variables in a local scope when the function call returns?"
      ],
      "metadata": {
        "id": "N1oahfC7sgLt"
      }
    },
    {
      "cell_type": "code",
      "source": [
        "\"\"\"\n",
        "When a function returns, the local scope is destroyed, and all the variables in it (local scope) are forgotten.\n",
        "\"\"\""
      ],
      "metadata": {
        "id": "FR4bFx7Qs8BX"
      },
      "execution_count": null,
      "outputs": []
    },
    {
      "cell_type": "markdown",
      "source": [
        "7. What is the concept of a return value? Is it possible to have a return value in an expression"
      ],
      "metadata": {
        "id": "LDOmLIqns7HP"
      }
    },
    {
      "cell_type": "code",
      "source": [
        "#A return value is the value that a function call evaluates\n",
        "#Like any value, a return value can be used as part of an expression"
      ],
      "metadata": {
        "id": "q1m9K-3GvhsK"
      },
      "execution_count": null,
      "outputs": []
    },
    {
      "cell_type": "markdown",
      "source": [
        "8. If a function does not have a return statement, what is the return value of a call to that function?"
      ],
      "metadata": {
        "id": "7AO1mZeHzCem"
      }
    },
    {
      "cell_type": "code",
      "source": [
        "# It will return nothing\n",
        "def myfunc():\n",
        "  \n",
        "  x = \"fantastic\"\n",
        "myfunc() #it returns nothing"
      ],
      "metadata": {
        "id": "OCuqdPm3zE7h"
      },
      "execution_count": 18,
      "outputs": []
    },
    {
      "cell_type": "markdown",
      "source": [
        "9. How do you make a function variable refer to the global variable?"
      ],
      "metadata": {
        "id": "544SeCHNzFkO"
      }
    },
    {
      "cell_type": "code",
      "source": [
        "\"\"\"\n",
        "By using \"global\" keyword\n",
        "  For an example\n",
        "  \"\"\"\n",
        "\n",
        "def myfunc():\n",
        "  global x\n",
        "  x = \"fantastic\"\n",
        "myfunc()\n",
        "\n",
        "print(\"Python is \" + x) #here we are accessing a local variable inside a function as global variable."
      ],
      "metadata": {
        "colab": {
          "base_uri": "https://localhost:8080/"
        },
        "id": "ZWJYkn8KzLuf",
        "outputId": "2f83b7de-98be-4b13-e1f5-f6695773cca0"
      },
      "execution_count": 17,
      "outputs": [
        {
          "output_type": "stream",
          "name": "stdout",
          "text": [
            "Python is fantastic\n"
          ]
        }
      ]
    },
    {
      "cell_type": "markdown",
      "source": [
        "10. What is the data type of None?"
      ],
      "metadata": {
        "id": "Fv16OudSzMwm"
      }
    },
    {
      "cell_type": "code",
      "source": [
        "#    Nonetype"
      ],
      "metadata": {
        "id": "chRnvzaHzQwE"
      },
      "execution_count": null,
      "outputs": []
    },
    {
      "cell_type": "markdown",
      "source": [
        "11. What does the sentence import areallyourpetsnamederic do?"
      ],
      "metadata": {
        "id": "4iZAmCB1zRyv"
      }
    },
    {
      "cell_type": "code",
      "source": [
        "###   It may import areallyourpetsnamederic if its available in python"
      ],
      "metadata": {
        "id": "0eS71VYpzYND"
      },
      "execution_count": null,
      "outputs": []
    },
    {
      "cell_type": "markdown",
      "source": [
        "12. If you had a bacon() feature in a spam module, what would you call it after importing spam?"
      ],
      "metadata": {
        "id": "PpeXiN9zzbYu"
      }
    },
    {
      "cell_type": "code",
      "source": [
        "#    spam.bacon()"
      ],
      "metadata": {
        "id": "knzr4G4Izb_X"
      },
      "execution_count": 8,
      "outputs": []
    },
    {
      "cell_type": "markdown",
      "source": [
        "13. What can you do to save a programme from crashing if it encounters an error?"
      ],
      "metadata": {
        "id": "SRAR8O7fzcxI"
      }
    },
    {
      "cell_type": "code",
      "source": [
        "#    We can use try except clause to save a program from crashing."
      ],
      "metadata": {
        "id": "5hr-UY46zgN-"
      },
      "execution_count": null,
      "outputs": []
    },
    {
      "cell_type": "markdown",
      "source": [
        "14. What is the purpose of the try clause? What is the purpose of the except clause?"
      ],
      "metadata": {
        "id": "aqqT4mMbzg1U"
      }
    },
    {
      "cell_type": "code",
      "source": [
        "\"\"\"\n",
        "Try and Except clause is used to handle the errors within our code. \n",
        "Try block is used to check some code for errors. The code inside the try block will execute when there is no error in the program.\n",
        "Whereas the code inside the except block will execute whenever the program encounters some error in the try block.\n",
        "\"\"\""
      ],
      "metadata": {
        "id": "1Qve2rQjziwc"
      },
      "execution_count": null,
      "outputs": []
    }
  ]
}